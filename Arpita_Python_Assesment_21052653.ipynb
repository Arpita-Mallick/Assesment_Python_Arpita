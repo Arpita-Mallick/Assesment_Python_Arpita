{
  "nbformat": 4,
  "nbformat_minor": 0,
  "metadata": {
    "colab": {
      "provenance": [],
      "authorship_tag": "ABX9TyPHhFlH7vEdazrcuMnwupiM",
      "include_colab_link": true
    },
    "kernelspec": {
      "name": "python3",
      "display_name": "Python 3"
    },
    "language_info": {
      "name": "python"
    }
  },
  "cells": [
    {
      "cell_type": "markdown",
      "metadata": {
        "id": "view-in-github",
        "colab_type": "text"
      },
      "source": [
        "<a href=\"https://colab.research.google.com/github/Arpita-Mallick/Assesment_Python_Arpita/blob/main/Arpita_Python_Assesment_21052653.ipynb\" target=\"_parent\"><img src=\"https://colab.research.google.com/assets/colab-badge.svg\" alt=\"Open In Colab\"/></a>"
      ]
    },
    {
      "cell_type": "code",
      "execution_count": 1,
      "metadata": {
        "colab": {
          "base_uri": "https://localhost:8080/"
        },
        "id": "DL2Xt8oa0--V",
        "outputId": "bb2d518b-2316-4124-dd72-c66212e79752"
      },
      "outputs": [
        {
          "output_type": "stream",
          "name": "stdout",
          "text": [
            "Enter total bill amount : 300\n",
            "Discount applied: ₹ 0.0\n",
            "Final amount to pay: ₹ 300.0\n"
          ]
        }
      ],
      "source": [
        "#1\n",
        "bill = float(input(\"Enter total bill amount : \"))\n",
        "if bill > 1000:\n",
        "    discount = 0.20 * bill\n",
        "elif bill > 500:\n",
        "    discount = 0.10 * bill\n",
        "else:\n",
        "    discount = 0.0\n",
        "final_amount = bill - discount\n",
        "print(\"Discount applied: ₹\", discount)\n",
        "print(\"Final amount to pay: ₹\", final_amount)"
      ]
    },
    {
      "cell_type": "code",
      "source": [
        "score = int(input(\"Enter the student's score (0–100): \"))\n",
        "\n",
        "if score >= 90 and score <= 100:\n",
        "    print(\"Grade A\")\n",
        "elif score >= 70 and score <= 89:\n",
        "    print(\"Grade B\")\n",
        "elif score >= 50 and score <= 69:\n",
        "    print(\"Grade C\")\n",
        "elif score >= 0 and score < 50:\n",
        "    print(\"Fail\")\n",
        "else:\n",
        "    print(\"Invalid score entered.\")"
      ],
      "metadata": {
        "colab": {
          "base_uri": "https://localhost:8080/"
        },
        "id": "PR1xZoPS6d6-",
        "outputId": "fb371ac7-cbe1-49ad-f892-0a536c694b21"
      },
      "execution_count": 2,
      "outputs": [
        {
          "output_type": "stream",
          "name": "stdout",
          "text": [
            "Enter the student's score (0–100): 70\n",
            "Grade B\n"
          ]
        }
      ]
    },
    {
      "cell_type": "code",
      "source": [
        "age = int(input(\"Enter the person's age: \"))\n",
        "\n",
        "if age < 0:\n",
        "    print(\"Invalid age entered.\")\n",
        "elif age < 13:\n",
        "    print(\"Child\")\n",
        "elif age <= 19:\n",
        "    print(\"Teen\")\n",
        "elif age <= 59:\n",
        "    print(\"Adult\")\n",
        "else:\n",
        "    print(\"Senior\")"
      ],
      "metadata": {
        "colab": {
          "base_uri": "https://localhost:8080/"
        },
        "id": "GLAcwro01J3l",
        "outputId": "5980807e-a751-4899-ff54-860ebfcc3439"
      },
      "execution_count": 3,
      "outputs": [
        {
          "output_type": "stream",
          "name": "stdout",
          "text": [
            "Enter the person's age: 60\n",
            "Senior\n"
          ]
        }
      ]
    },
    {
      "cell_type": "code",
      "source": [
        "num = int(input(\"Enter a number: \"))\n",
        "\n",
        "if num % 2 == 0:\n",
        "    if num % 5 == 0:\n",
        "        print(\"Even and divisible by 5\")\n",
        "    else:\n",
        "        print(\"Even and not divisible by 5\")\n",
        "else:\n",
        "    if num % 5 == 0:\n",
        "        print(\"Odd and divisible by 5\")\n",
        "    else:\n",
        "        print(\"Odd and not divisible by 5\")"
      ],
      "metadata": {
        "colab": {
          "base_uri": "https://localhost:8080/"
        },
        "id": "N_UF7luQ6wAX",
        "outputId": "39247bf7-14d7-4f24-cd69-b6ae0326e8c4"
      },
      "execution_count": 4,
      "outputs": [
        {
          "output_type": "stream",
          "name": "stdout",
          "text": [
            "Enter a number: 7\n",
            "Odd and not divisible by 5\n"
          ]
        }
      ]
    },
    {
      "cell_type": "code",
      "source": [
        "username=input('enter username: ')\n",
        "s='john amy sita'\n",
        "if username in s:\n",
        "    print('valid')\n",
        "else:\n",
        "    print('invalid')\n"
      ],
      "metadata": {
        "colab": {
          "base_uri": "https://localhost:8080/"
        },
        "id": "KcDEGZr168S0",
        "outputId": "6dcec236-7f63-4008-d851-bf342549f5b7"
      },
      "execution_count": 5,
      "outputs": [
        {
          "output_type": "stream",
          "name": "stdout",
          "text": [
            "enter username: john\n",
            "valid\n"
          ]
        }
      ]
    },
    {
      "cell_type": "code",
      "source": [
        "num1 = float(input(\"Enter first number: \"))\n",
        "num2 = float(input(\"Enter second number: \"))\n",
        "\n",
        "if num1 > num2:\n",
        "    print(\"First number is greater.\")\n",
        "elif num2 > num1:\n",
        "    print(\"Second number is greater.\")\n",
        "else:\n",
        "    print(\"Both numbers are equal.\")"
      ],
      "metadata": {
        "id": "ain-6dL87EJq"
      },
      "execution_count": null,
      "outputs": []
    },
    {
      "cell_type": "code",
      "source": [
        "age = int(input(\"Enter your age: \"))\n",
        "\n",
        "if age >= 21:\n",
        "    print(\"Eligible for both voting and driving.\")\n",
        "elif age >= 18:\n",
        "    print(\"Eligible for voting, but not for driving.\")\n",
        "else:\n",
        "    print(\"Not eligible for voting or driving.\")"
      ],
      "metadata": {
        "id": "ZWdA0rAn7Ns5"
      },
      "execution_count": null,
      "outputs": []
    },
    {
      "cell_type": "code",
      "source": [
        "year = int(input(\"Enter a year: \"))\n",
        "\n",
        "if (year % 4 == 0 and year % 100 != 0) or (year % 400 == 0):\n",
        "    print(year, \"is a leap year.\")\n",
        "else:\n",
        "    print(year, \"is not a leap year.\")"
      ],
      "metadata": {
        "id": "KNCR2_DD7R8F"
      },
      "execution_count": null,
      "outputs": []
    },
    {
      "cell_type": "code",
      "source": [
        "n=int(input('enter 1st number: '))\n",
        "m=int(input('enter 2nd number: '))\n",
        "option=input('enter option: \\n1.+ for addition \\n2. - for subtraction \\n3. * for multiplication \\n4./ for division \\n')\n",
        "match option:\n",
        "    case '+':\n",
        "        print('addition:',n+m)\n",
        "    case '-':\n",
        "        print('subtraction:',n-m)\n",
        "    case '*':\n",
        "        print('multiplication:',n*m)\n",
        "    case '/':\n",
        "        if m!=0:\n",
        "            print('division:',n/m)\n",
        "        else:\n",
        "            print('division by zero not possible')\n",
        "    case _:\n",
        "        print('invalid option')\n"
      ],
      "metadata": {
        "id": "ad4KhG_B7U40"
      },
      "execution_count": null,
      "outputs": []
    },
    {
      "cell_type": "code",
      "source": [
        "username=input('enter username: ')\n",
        "s='admin manager'\n",
        "if username in s:\n",
        "    print('login successful')\n",
        "else:\n",
        "    print('login failed')\n"
      ],
      "metadata": {
        "id": "mo7oBn-o7YeA"
      },
      "execution_count": null,
      "outputs": []
    },
    {
      "cell_type": "code",
      "source": [
        "temp=int(input('enter temperature in celsius: '))\n",
        "if temp>40:\n",
        "    print('heat alert')\n",
        "elif temp>=30 and temp<=40:\n",
        "    print('warm')\n",
        "elif temp<=30:\n",
        "    print('normal')\n"
      ],
      "metadata": {
        "id": "Q-Lro6yy7bx_"
      },
      "execution_count": null,
      "outputs": []
    },
    {
      "cell_type": "code",
      "source": [
        "password=input('enter password: ')\n",
        "if len(password)>=8 and '@' in password:\n",
        "    print('strong password')\n",
        "else:\n",
        "    print('weak password')\n"
      ],
      "metadata": {
        "id": "Sdlr1RrJ7epi"
      },
      "execution_count": null,
      "outputs": []
    },
    {
      "cell_type": "code",
      "source": [
        "balamount=10000\n",
        "amount=int(input('enter amount: '))\n",
        "if amount<=balamount and amount%100==0:\n",
        "    print('withdrawl successful')\n",
        "else:\n",
        "    print('withdrawl failed')\n"
      ],
      "metadata": {
        "id": "Jq58p2-S7hEC"
      },
      "execution_count": null,
      "outputs": []
    },
    {
      "cell_type": "code",
      "source": [
        "n=int(input('enter number: '))\n",
        "if n%3==0 and n%5==0:\n",
        "    print('divisible by 3 and 5')\n",
        "elif n%3==0:\n",
        "    print('divisible by 3')\n",
        "elif n%5==0:\n",
        "    print('divisible by 5')\n",
        "else:\n",
        "    print('not divisible by 3 and 5')"
      ],
      "metadata": {
        "id": "_CxSyx4g7j2K"
      },
      "execution_count": null,
      "outputs": []
    },
    {
      "cell_type": "code",
      "source": [
        "userinput=input('enter product name: ')\n",
        "product='pen pencil eraser'\n",
        "if 'pen' in product:\n",
        "    print('pen is available')\n",
        "elif 'pencil' in product:\n",
        "    print('pencil is available')\n",
        "elif 'eraser' in product:\n",
        "    print('eraser is available')\n",
        "\n",
        "else:\n",
        "    print('product not available')\n"
      ],
      "metadata": {
        "id": "_DXCzcgl7mSk"
      },
      "execution_count": null,
      "outputs": []
    },
    {
      "cell_type": "code",
      "source": [
        "length1=int(input('enter 1st length of triangle: '))\n",
        "length2=int(input('enter 2nd length of triangle: '))\n",
        "length3=int(input('enter 3rd length of triangle: '))\n",
        "if length1+length2>length3 and length1+length3>length2 and length2+length3>length1:\n",
        "    print('valid triangle')\n",
        "else:\n",
        "    print('invalid triangle')\n"
      ],
      "metadata": {
        "id": "6YiZPSjv7roJ"
      },
      "execution_count": null,
      "outputs": []
    },
    {
      "cell_type": "code",
      "source": [
        "n=int(input('enter number: '))\n",
        "m=int(input('enter number: '))\n",
        "p=  int(input('enter number: '))\n",
        "greatest=0\n",
        "if n>m and n>p:\n",
        "    greatest=n\n",
        "\n",
        "elif m>n and m>p:\n",
        "    greatest=m\n",
        "\n",
        "elif p>n and p>m:\n",
        "    greatest=p\n",
        "print('greatest number:',greatest)\n"
      ],
      "metadata": {
        "id": "LA6XpZOW7sXu"
      },
      "execution_count": null,
      "outputs": []
    },
    {
      "cell_type": "code",
      "source": [
        "marks=int(input('enter marks: '))\n",
        "if marks<=100 and marks>=0:\n",
        "    print('valid marks')\n",
        "else:\n",
        "    print('invalid marks')\n"
      ],
      "metadata": {
        "id": "x13vFUsM7vWd"
      },
      "execution_count": null,
      "outputs": []
    },
    {
      "cell_type": "code",
      "source": [
        "predifined_username='shreeya'\n",
        "predifined_password='shreeya@123'\n",
        "username=input('enter username: ')\n",
        "password=input('enter password: ')\n",
        "if username==predifined_username and password==predifined_password:\n",
        "    print('login successful')\n",
        "else:\n",
        "    print('login failed')\n"
      ],
      "metadata": {
        "id": "xaPJrxkl70Gw"
      },
      "execution_count": null,
      "outputs": []
    },
    {
      "cell_type": "code",
      "source": [
        "electricity_bill=int(input('enter electricity bill: '))\n",
        "if electricity_bill<=100:\n",
        "    bill=5*100\n",
        "elif electricity_bill>100 and electricity_bill<=200:\n",
        "    bill=5*100+7*(electricity_bill-100)\n",
        "else:\n",
        "    bill=5*100+7*(200-100)+10*(electricity_bill-200)\n",
        "print('total bill:',bill)"
      ],
      "metadata": {
        "id": "NoNw8nbz71IN"
      },
      "execution_count": null,
      "outputs": []
    }
  ]
}